{
 "cells": [
  {
   "cell_type": "markdown",
   "metadata": {
    "toc": true
   },
   "source": [
    "<h1>Table of Contents<span class=\"tocSkip\"></span></h1>\n",
    "<div class=\"toc\"><ul class=\"toc-item\"><li><span><a href=\"#Predicting-Customer-Lifetime-Value\" data-toc-modified-id=\"Predicting-Customer-Lifetime-Value-1\"><span class=\"toc-item-num\">1&nbsp;&nbsp;</span>Predicting Customer Lifetime Value</a></span><ul class=\"toc-item\"><li><span><a href=\"#Loading-and-Viewing-Data\" data-toc-modified-id=\"Loading-and-Viewing-Data-1.1\"><span class=\"toc-item-num\">1.1&nbsp;&nbsp;</span>Loading and Viewing Data</a></span></li><li><span><a href=\"#Correlation-Analysis\" data-toc-modified-id=\"Correlation-Analysis-1.2\"><span class=\"toc-item-num\">1.2&nbsp;&nbsp;</span>Correlation Analysis</a></span></li><li><span><a href=\"#Train-Test-Split\" data-toc-modified-id=\"Train-Test-Split-1.3\"><span class=\"toc-item-num\">1.3&nbsp;&nbsp;</span>Train Test Split</a></span></li><li><span><a href=\"#Build-and-Test-Model\" data-toc-modified-id=\"Build-and-Test-Model-1.4\"><span class=\"toc-item-num\">1.4&nbsp;&nbsp;</span>Build and Test Model</a></span></li><li><span><a href=\"#Predicting-for-a-new-Customer\" data-toc-modified-id=\"Predicting-for-a-new-Customer-1.5\"><span class=\"toc-item-num\">1.5&nbsp;&nbsp;</span>Predicting for a new Customer</a></span></li></ul></li></ul></div>"
   ]
  },
  {
   "cell_type": "markdown",
   "metadata": {},
   "source": [
    " # Predicting Customer Lifetime Value"
   ]
  },
  {
   "cell_type": "markdown",
   "metadata": {},
   "source": [
    "In this example, we will use past purchase history of your customers to build a model that can predict the Customer Lifetime Value (CLV) for new customers"
   ]
  },
  {
   "cell_type": "markdown",
   "metadata": {},
   "source": [
    "## Loading and Viewing Data\n",
    "We will load the data file for this example and checkout summary statistics and columns for that file."
   ]
  },
  {
   "cell_type": "code",
   "execution_count": 1,
   "metadata": {},
   "outputs": [
    {
     "name": "stdout",
     "output_type": "stream",
     "text": [
      "<class 'pandas.core.frame.DataFrame'>\n",
      "RangeIndex: 100 entries, 0 to 99\n",
      "Data columns (total 8 columns):\n",
      "CUST_ID    100 non-null int64\n",
      "MONTH_1    100 non-null int64\n",
      "MONTH_2    100 non-null int64\n",
      "MONTH_3    100 non-null int64\n",
      "MONTH_4    100 non-null int64\n",
      "MONTH_5    100 non-null int64\n",
      "MONTH_6    100 non-null int64\n",
      "CLV        100 non-null int64\n",
      "dtypes: int64(8)\n",
      "memory usage: 6.4 KB\n"
     ]
    }
   ],
   "source": [
    "# Import relevant libraries & packages\n",
    "import pandas as pd\n",
    "import numpy as np\n",
    "import os\n",
    "import matplotlib.pylab as plt\n",
    "from sklearn.model_selection  import train_test_split\n",
    "from sklearn.linear_model import LinearRegression\n",
    "import sklearn.metrics\n",
    "\n",
    "# Import data\n",
    "raw_data = pd.read_csv(\"history.csv\")\n",
    "\n",
    "# Preview info\n",
    "raw_data.info()"
   ]
  },
  {
   "cell_type": "markdown",
   "metadata": {},
   "source": [
    "The dataset consists of the customer ID, the amount the customer spent on the website for the first 6 months as a new customer of the business and the customer's total lifetime value (3 years)."
   ]
  },
  {
   "cell_type": "code",
   "execution_count": 2,
   "metadata": {},
   "outputs": [
    {
     "data": {
      "text/html": [
       "<div>\n",
       "<style scoped>\n",
       "    .dataframe tbody tr th:only-of-type {\n",
       "        vertical-align: middle;\n",
       "    }\n",
       "\n",
       "    .dataframe tbody tr th {\n",
       "        vertical-align: top;\n",
       "    }\n",
       "\n",
       "    .dataframe thead th {\n",
       "        text-align: right;\n",
       "    }\n",
       "</style>\n",
       "<table border=\"1\" class=\"dataframe\">\n",
       "  <thead>\n",
       "    <tr style=\"text-align: right;\">\n",
       "      <th></th>\n",
       "      <th>CUST_ID</th>\n",
       "      <th>MONTH_1</th>\n",
       "      <th>MONTH_2</th>\n",
       "      <th>MONTH_3</th>\n",
       "      <th>MONTH_4</th>\n",
       "      <th>MONTH_5</th>\n",
       "      <th>MONTH_6</th>\n",
       "      <th>CLV</th>\n",
       "    </tr>\n",
       "  </thead>\n",
       "  <tbody>\n",
       "    <tr>\n",
       "      <td>0</td>\n",
       "      <td>1001</td>\n",
       "      <td>150</td>\n",
       "      <td>75</td>\n",
       "      <td>200</td>\n",
       "      <td>100</td>\n",
       "      <td>175</td>\n",
       "      <td>75</td>\n",
       "      <td>13125</td>\n",
       "    </tr>\n",
       "    <tr>\n",
       "      <td>1</td>\n",
       "      <td>1002</td>\n",
       "      <td>25</td>\n",
       "      <td>50</td>\n",
       "      <td>150</td>\n",
       "      <td>200</td>\n",
       "      <td>175</td>\n",
       "      <td>200</td>\n",
       "      <td>9375</td>\n",
       "    </tr>\n",
       "    <tr>\n",
       "      <td>2</td>\n",
       "      <td>1003</td>\n",
       "      <td>75</td>\n",
       "      <td>150</td>\n",
       "      <td>0</td>\n",
       "      <td>25</td>\n",
       "      <td>75</td>\n",
       "      <td>25</td>\n",
       "      <td>5156</td>\n",
       "    </tr>\n",
       "    <tr>\n",
       "      <td>3</td>\n",
       "      <td>1004</td>\n",
       "      <td>200</td>\n",
       "      <td>200</td>\n",
       "      <td>25</td>\n",
       "      <td>100</td>\n",
       "      <td>75</td>\n",
       "      <td>150</td>\n",
       "      <td>11756</td>\n",
       "    </tr>\n",
       "    <tr>\n",
       "      <td>4</td>\n",
       "      <td>1005</td>\n",
       "      <td>200</td>\n",
       "      <td>200</td>\n",
       "      <td>125</td>\n",
       "      <td>75</td>\n",
       "      <td>175</td>\n",
       "      <td>200</td>\n",
       "      <td>15525</td>\n",
       "    </tr>\n",
       "  </tbody>\n",
       "</table>\n",
       "</div>"
      ],
      "text/plain": [
       "   CUST_ID  MONTH_1  MONTH_2  MONTH_3  MONTH_4  MONTH_5  MONTH_6    CLV\n",
       "0     1001      150       75      200      100      175       75  13125\n",
       "1     1002       25       50      150      200      175      200   9375\n",
       "2     1003       75      150        0       25       75       25   5156\n",
       "3     1004      200      200       25      100       75      150  11756\n",
       "4     1005      200      200      125       75      175      200  15525"
      ]
     },
     "execution_count": 2,
     "metadata": {},
     "output_type": "execute_result"
    }
   ],
   "source": [
    "# Preview data\n",
    "raw_data.head()"
   ]
  },
  {
   "cell_type": "markdown",
   "metadata": {},
   "source": [
    "## Correlation Analysis\n",
    "\n",
    "Let's take a look at the correlation analysis between CLV and each month."
   ]
  },
  {
   "cell_type": "code",
   "execution_count": 3,
   "metadata": {},
   "outputs": [
    {
     "data": {
      "text/plain": [
       "MONTH_1    0.734122\n",
       "MONTH_2    0.250397\n",
       "MONTH_3    0.371742\n",
       "MONTH_4    0.297408\n",
       "MONTH_5    0.376775\n",
       "MONTH_6    0.327064\n",
       "CLV        1.000000\n",
       "Name: CLV, dtype: float64"
      ]
     },
     "execution_count": 3,
     "metadata": {},
     "output_type": "execute_result"
    }
   ],
   "source": [
    "cleaned_data = raw_data.drop(\"CUST_ID\",axis=1)\n",
    "cleaned_data .corr()['CLV']"
   ]
  },
  {
   "cell_type": "markdown",
   "metadata": {},
   "source": [
    "We can see that month 1 shows the strongest correlation to the target variable (CLV). So, becoming a customer at all is highly correlated with total CLV. The rest of the months seem to level out, ranging from 25.0-37.7%. "
   ]
  },
  {
   "cell_type": "markdown",
   "metadata": {},
   "source": [
    "## Train Test Split\n",
    "\n",
    "Let us split the data into train and test datasets with a ratio of 90:10."
   ]
  },
  {
   "cell_type": "code",
   "execution_count": 12,
   "metadata": {},
   "outputs": [
    {
     "name": "stdout",
     "output_type": "stream",
     "text": [
      "Predictor - Train : (90, 6) \n",
      "Predictor - Test : (10, 6)\n"
     ]
    }
   ],
   "source": [
    "# Predictor variables\n",
    "predictors = cleaned_data.drop(\"CLV\",axis=1)\n",
    "\n",
    "# Target variable\n",
    "target = cleaned_data.CLV\n",
    "\n",
    "# Train test split\n",
    "pred_train, pred_test, tar_train, tar_test  =   train_test_split(predictors, target, test_size=.1)\n",
    "\n",
    "# Check shapes\n",
    "print(\"Predictor - Train :\", pred_train.shape, \"\\nPredictor - Test :\", pred_test.shape )\n"
   ]
  },
  {
   "cell_type": "markdown",
   "metadata": {},
   "source": [
    "## Build and Test Model\n",
    "We will now build a Linear Regression equation for predicting CLV and then check its accuracy by predicting against the test dataset."
   ]
  },
  {
   "cell_type": "code",
   "execution_count": 21,
   "metadata": {},
   "outputs": [
    {
     "name": "stdout",
     "output_type": "stream",
     "text": [
      "Coefficients: \n",
      " [34.74477894971672, 10.542551393581304, 15.751506690420607, 11.293717634024985, 7.148167528004595, 5.018784458549347]\n",
      "\n",
      "Intercept: 51.2451565854044\n",
      "\n",
      "R2: 0.9446437512942709\n"
     ]
    }
   ],
   "source": [
    "# Build model with training data\n",
    "\n",
    "# Instantiate & Fit Model\n",
    "model = LinearRegression()\n",
    "model.fit(pred_train, tar_train)\n",
    "\n",
    "# Print coeff's and int\n",
    "print(\"Coefficients: \\n\", list(model.coef_))\n",
    "print(\"\\nIntercept:\", model.intercept_)\n",
    "\n",
    "# Make predictions using test data\n",
    "predictions = model.predict(pred_test)\n",
    "predictions\n",
    "\n",
    "# Check accuracy with R2 score\n",
    "accuracy = sklearn.metrics.r2_score(tar_test, predictions)\n",
    "print(\"\\nR2:\", accuracy)"
   ]
  },
  {
   "cell_type": "markdown",
   "metadata": {},
   "source": [
    "The R2 value shows a 94% test accuracy of the model. The model appears to capture the relationship/pattern well. "
   ]
  },
  {
   "cell_type": "markdown",
   "metadata": {},
   "source": [
    "## Predicting for a new Customer\n",
    "Now let's say there is a new customer who's spent 100,0,50 on the website within the first 3 months of becoming a customer. Let's use the model to predict the customer's CLV."
   ]
  },
  {
   "cell_type": "code",
   "execution_count": 32,
   "metadata": {},
   "outputs": [
    {
     "name": "stdout",
     "output_type": "stream",
     "text": [
      "The CLV for the new customer is : $ 4313.30\n"
     ]
    }
   ],
   "source": [
    "# Generate data for new customer\n",
    "new_data = np.array([100,0,50,0,0,0]).reshape(1, -1)\n",
    "\n",
    "# Make predictions with/on new data\n",
    "new_pred = model.predict(new_data)\n",
    "\n",
    "# Print predicted CLV\n",
    "print(\"The CLV for the new customer is : $\", '{0:.2f}'.format(new_pred[0]))"
   ]
  }
 ],
 "metadata": {
  "kernelspec": {
   "display_name": "Python [conda env:learn-env] *",
   "language": "python",
   "name": "conda-env-learn-env-py"
  },
  "language_info": {
   "codemirror_mode": {
    "name": "ipython",
    "version": 3
   },
   "file_extension": ".py",
   "mimetype": "text/x-python",
   "name": "python",
   "nbconvert_exporter": "python",
   "pygments_lexer": "ipython3",
   "version": "3.6.9"
  },
  "toc": {
   "base_numbering": 1,
   "nav_menu": {},
   "number_sections": true,
   "sideBar": true,
   "skip_h1_title": false,
   "title_cell": "Table of Contents",
   "title_sidebar": "Contents",
   "toc_cell": true,
   "toc_position": {},
   "toc_section_display": true,
   "toc_window_display": false
  }
 },
 "nbformat": 4,
 "nbformat_minor": 1
}
